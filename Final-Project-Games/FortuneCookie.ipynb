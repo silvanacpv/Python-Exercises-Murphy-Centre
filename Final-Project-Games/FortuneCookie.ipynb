{
  "metadata": {
    "kernelspec": {
      "name": "python",
      "display_name": "Python (Pyodide)",
      "language": "python"
    },
    "language_info": {
      "codemirror_mode": {
        "name": "python",
        "version": 3
      },
      "file_extension": ".py",
      "mimetype": "text/x-python",
      "name": "python",
      "nbconvert_exporter": "python",
      "pygments_lexer": "ipython3",
      "version": "3.8"
    }
  },
  "nbformat_minor": 4,
  "nbformat": 4,
  "cells": [
    {
      "cell_type": "code",
      "source": "#Question One – Option B\n#Fortune Cookie\n#By:   Silvana Paredes\n#Date: 22/02/2025\n\nimport random\n\n# Possible fortunes\nresponses = [\n   \"Great opportunities are coming your way.\",\n   \"A pleasant surprise is waiting for you.\",\n   \"Your kindness will lead you to success.\",\n   \"Adventure and excitement are in your future.\",\n   \"A wise decision will bring you happiness.\",\n   \"Trust yourself, and good things will happen.\",\n]\n\n#First part\nprint(\"Fortune: \")\n\n#Get the response\nanswer = random.choice(responses)\n    \n#Print the Answer    \nprint(answer, \"\\n\")\n\n#Second part\nprint(\"Random numbers:\")\nfor numb in range(0,4):\n    rand = random.randint(0, 99)\n    print(rand)",
      "metadata": {
        "trusted": true
      },
      "outputs": [
        {
          "name": "stdout",
          "text": "Fortune: \nA wise decision will bring you happiness. \n\nRandom numbers:\n59\n96\n33\n88\n",
          "output_type": "stream"
        }
      ],
      "execution_count": 1
    }
  ]
}