{
  "metadata": {
    "kernelspec": {
      "name": "python",
      "display_name": "Python (Pyodide)",
      "language": "python"
    },
    "language_info": {
      "codemirror_mode": {
        "name": "python",
        "version": 3
      },
      "file_extension": ".py",
      "mimetype": "text/x-python",
      "name": "python",
      "nbconvert_exporter": "python",
      "pygments_lexer": "ipython3",
      "version": "3.8"
    }
  },
  "nbformat_minor": 4,
  "nbformat": 4,
  "cells": [
    {
      "cell_type": "code",
      "source": "#Question One – Random Number Generator\n#Magic 8 Ball\n#By:   Silvana Paredes\n#Date: 19/02/2025\n\nimport random\n\n#Affirmative answers\naffirmative = [\n    \"It is certain.\",\n    \"It is decidedly so.\",\n    \"Without a doubt.\",\n    \"Yes, definitely!\",\n    \"You may rely on it.\",\n    \"As I see it, yes.\",\n    \"Most likely.\",\n    \"Outlook good.\",\n    \"Yes.\",\n    \"Signs points to yes.\",\n]\n\n#Non-committal\nnon_committal = [\n    \"Reply hazy, try again.\", \n    \"Ask again later.\", \n    \"Better not tell you now.\", \n    \"Cannot predict now.\",\n    \"Concentrate and ask again\",\n]\n\n#Negatives\nnegative = [\n    \"Don't count on it.\", \n    \"My reply is no.\",\n    \"My sources say no.\",\n    \"Outlook not so good.\",\n    \"Very doubtful.\"\n]\n\n\nresponses = affirmative + non_committal + negative\ncont_aff = 0\ncont_non = 0\ncont_neg = 0\n\nnext_question = 'Y'\n\n\nwhile next_question == 'Y':  \n    question = input(\"Please, enter your question:\\n\")\n\n    #Get the answer\n    answer = random.choice(responses)\n    \n    #Determine the type of answer   \n    if answer in affirmative:\n       cont_aff = cont_aff + 1.\n    if answer in non_committal:\n       cont_non = cont_non + 1.\n    if answer in negative:\n       cont_neg = cont_neg + 1.\n\n    #print(\"\\nAffirmative questions: \", cont_aff)\n    #print(\"\\nNon-committal questions: \", cont_non)\n    #print(\"\\nNegative questions: \", cont_neg)\n\n\n    #Build the list by selecting possible answers\n    if cont_aff >= 3:\n        for item in affirmative:\n          if item in responses:\n            responses.remove(item)\n    if cont_non >= 3:\n        for item in non_committal:\n          if item in responses:\n            responses.remove(item)\n    if cont_neg >= 3:\n        for item in negative:\n          if item in responses:\n            responses.remove(item)\n    if not responses:\n        responses = affirmative + non_committal + negative\n        \n    print(responses)\n        \n    #Print the Answer\n    print(\"Magic 8 Ball says:\\n\", answer)\n\n    #Ask for the next question\n    next_question = input(\"Do you want to continue (Y/N):\\n\")\n    \n    while next_question not in ['Y', 'N']:  \n        next_question = input(\"Please enter a valid response (Y/N):\\n\")\n\n    if next_question == 'N':\n        print(\"Good bye!\")\n        break  \n",
      "metadata": {
        "trusted": true
      },
      "outputs": [],
      "execution_count": null
    }
  ]
}